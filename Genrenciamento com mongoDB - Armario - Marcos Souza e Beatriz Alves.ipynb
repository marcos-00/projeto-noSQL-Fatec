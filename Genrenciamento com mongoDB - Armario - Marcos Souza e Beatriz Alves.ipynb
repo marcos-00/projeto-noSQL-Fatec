{
 "cells": [
  {
   "cell_type": "code",
   "execution_count": 1,
   "id": "15cf300e",
   "metadata": {},
   "outputs": [],
   "source": [
    "#armario de casa - Nome> Marcos Souza e Beatriz Alves\n",
    "\n",
    "import pymongo\n",
    "\n",
    "# Conectar ao servidor MongoDB local.\n",
    "client = pymongo.MongoClient(\"mongodb://localhost:27017/\")"
   ]
  },
  {
   "cell_type": "code",
   "execution_count": 2,
   "id": "2f9f4d99",
   "metadata": {},
   "outputs": [],
   "source": [
    "# Criar um banco de dados chamado armario\n",
    "db = client[\"armario\"]"
   ]
  },
  {
   "cell_type": "code",
   "execution_count": 3,
   "id": "50a457ae",
   "metadata": {},
   "outputs": [],
   "source": [
    "# Criar uma coleção chamada alimentos\n",
    "collection = db[\"alimentos\"]"
   ]
  },
  {
   "cell_type": "code",
   "execution_count": 7,
   "id": "127dc016",
   "metadata": {},
   "outputs": [],
   "source": [
    "#Função para inserir um alimento na coleção\n",
    "def adicionar_alimento(nome, quantidade, preco, data_validade):\n",
    "    alimento = {\"nome\" : nome, \"quantidade\" : quantidade, \"preco\": preco, \"data_validade\": data_validade}\n",
    "    collection.insert_one(alimento)\n",
    "    print(f\"{nome} foi adicionado ao armario com uma quantidade de {quantidade} data de validade {data_validade} e preco {preco}.\")"
   ]
  },
  {
   "cell_type": "code",
   "execution_count": 8,
   "id": "1b4bb624",
   "metadata": {},
   "outputs": [],
   "source": [
    "#Função para visualizar os itens \n",
    "def listar_alimentos():\n",
    "    alimentos = collection.find()\n",
    "    for alimento in alimentos:\n",
    "        print(f\"Nome: {alimento['nome']}, Quantidade: {alimento['quantidade']}, Data de validade: {alimento['data_validade']},  Preço: {alimento['preco']}\")"
   ]
  },
  {
   "cell_type": "code",
   "execution_count": 10,
   "id": "21fdf9a3",
   "metadata": {},
   "outputs": [],
   "source": [
    "#Atualizar a quantidade de itens do nosso armario\n",
    "def atualizar_quantidade(nome, nova_quantidade):\n",
    "    collection.update_one({\"nome\": nome}, {\"$set\": {\"quantidade\": nova_quantidade}})\n",
    "    print(f\"A quantidade de {nome} foi atualizada para {nova_quantidade}.\")"
   ]
  },
  {
   "cell_type": "code",
   "execution_count": 11,
   "id": "ba7793cb",
   "metadata": {},
   "outputs": [],
   "source": [
    "# Remover um alimento do armário\n",
    "def remover_alimento(nome):\n",
    "    collection.delete_one({\"nome\": nome})\n",
    "    print(f\"{nome} foi removido do armário.\")"
   ]
  },
  {
   "cell_type": "code",
   "execution_count": 13,
   "id": "342d8f02",
   "metadata": {},
   "outputs": [
    {
     "name": "stdout",
     "output_type": "stream",
     "text": [
      "Arroz foi adicionado ao armario com uma quantidade de 3 data de validade 12/1/24 e preco 12.22.\n"
     ]
    }
   ],
   "source": [
    "adicionar_alimento(\"Arroz\", 3, 12.22, \"12/1/24\")"
   ]
  },
  {
   "cell_type": "code",
   "execution_count": 15,
   "id": "50ded10e",
   "metadata": {},
   "outputs": [
    {
     "name": "stdout",
     "output_type": "stream",
     "text": [
      "Feijão foi adicionado ao armario com uma quantidade de 2 data de validade 10/1/24 e preco 13.22.\n"
     ]
    }
   ],
   "source": [
    "adicionar_alimento(\"Feijão\", 2, 13.22, \"10/1/24\")"
   ]
  },
  {
   "cell_type": "code",
   "execution_count": 16,
   "id": "a89e104f",
   "metadata": {},
   "outputs": [
    {
     "name": "stdout",
     "output_type": "stream",
     "text": [
      "A quantidade de Arroz foi atualizada para 5.\n"
     ]
    }
   ],
   "source": [
    "atualizar_quantidade(\"Arroz\", 5)"
   ]
  },
  {
   "cell_type": "code",
   "execution_count": 17,
   "id": "0c5e5637",
   "metadata": {},
   "outputs": [
    {
     "name": "stdout",
     "output_type": "stream",
     "text": [
      "Nome: Arroz, Quantidade: 5, Data de validade: 0.5,  Preço: 12.22\n",
      "Nome: Arroz, Quantidade: 3, Data de validade: 12/1/24,  Preço: 12.22\n",
      "Nome: Feijão, Quantidade: 2, Data de validade: 0.4166666666666667,  Preço: 13.22\n",
      "Nome: Feijão, Quantidade: 2, Data de validade: 10/1/24,  Preço: 13.22\n"
     ]
    }
   ],
   "source": [
    "listar_alimentos()"
   ]
  },
  {
   "cell_type": "code",
   "execution_count": 19,
   "id": "5eaa5e4d",
   "metadata": {},
   "outputs": [
    {
     "name": "stdout",
     "output_type": "stream",
     "text": [
      "Feijão foi removido do armário.\n"
     ]
    }
   ],
   "source": [
    "remover_alimento(\"Feijão\")"
   ]
  },
  {
   "cell_type": "code",
   "execution_count": 20,
   "id": "7752e04f",
   "metadata": {},
   "outputs": [
    {
     "name": "stdout",
     "output_type": "stream",
     "text": [
      "Arroz foi removido do armário.\n"
     ]
    }
   ],
   "source": [
    "remover_alimento(\"Arroz\")"
   ]
  },
  {
   "cell_type": "code",
   "execution_count": 21,
   "id": "cfc18202",
   "metadata": {},
   "outputs": [
    {
     "name": "stdout",
     "output_type": "stream",
     "text": [
      "Nome: Arroz, Quantidade: 3, Data de validade: 12/1/24,  Preço: 12.22\n",
      "Nome: Feijão, Quantidade: 2, Data de validade: 10/1/24,  Preço: 13.22\n"
     ]
    }
   ],
   "source": [
    "listar_alimentos()"
   ]
  },
  {
   "cell_type": "code",
   "execution_count": null,
   "id": "83cefba9",
   "metadata": {},
   "outputs": [],
   "source": [
    "client.close()"
   ]
  }
 ],
 "metadata": {
  "kernelspec": {
   "display_name": "Python 3 (ipykernel)",
   "language": "python",
   "name": "python3"
  },
  "language_info": {
   "codemirror_mode": {
    "name": "ipython",
    "version": 3
   },
   "file_extension": ".py",
   "mimetype": "text/x-python",
   "name": "python",
   "nbconvert_exporter": "python",
   "pygments_lexer": "ipython3",
   "version": "3.9.13"
  }
 },
 "nbformat": 4,
 "nbformat_minor": 5
}
